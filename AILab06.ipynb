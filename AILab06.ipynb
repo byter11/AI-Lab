{
  "nbformat": 4,
  "nbformat_minor": 0,
  "metadata": {
    "colab": {
      "name": "AILab06.ipynb",
      "provenance": [],
      "collapsed_sections": []
    },
    "kernelspec": {
      "name": "python3",
      "display_name": "Python 3"
    },
    "language_info": {
      "name": "python"
    }
  },
  "cells": [
    {
      "cell_type": "code",
      "source": [
        "INF = float('inf')\n",
        "import time, random, string\n",
        "from collections import defaultdict"
      ],
      "metadata": {
        "id": "pOZKHlNLFoE1"
      },
      "execution_count": null,
      "outputs": []
    },
    {
      "cell_type": "code",
      "execution_count": null,
      "metadata": {
        "id": "90mrguBhE1DD"
      },
      "outputs": [],
      "source": [
        "class GeneticAlgorithm:\n",
        "  def __init__(self, pop, ideal, n, bits, cross_rate, mutation_rate):\n",
        "    self.pop = pop\n",
        "    self.n_pop = len(pop)\n",
        "    self.ideal = ideal\n",
        "    self.n = n\n",
        "    self.bits = bits\n",
        "    self.cross_rate = cross_rate\n",
        "    self.mutation_rate = mutation_rate\n",
        "\n",
        "  def fitness(self, chromosome):\n",
        "    return sum( [int(c) * 2**(self.bits - i - 1) for i, c in enumerate(chromosome)] )\n",
        "\n",
        "  def select(self, k=3):\n",
        "    selection = random.choice(self.pop)\n",
        "    for p in random.choices(self.pop, k=k):\n",
        "      if self.fitness(p) > self.fitness(selection):\n",
        "        selection = p\n",
        "    \n",
        "    return selection\n",
        "\n",
        "  def crossover(self,p1, p2):\n",
        "    pt = len(p1)\n",
        "    if random.random() < self.cross_rate:\n",
        "      pt = random.randint(1, len(p1)-2)\n",
        "\n",
        "    return [\n",
        "      p1[:pt] + p2[pt:],\n",
        "      p2[:pt] + p1[pt:]\n",
        "    ]\n",
        "\n",
        "  def mutation(self, c):\n",
        "    if random.random() < self.mutation_rate:\n",
        "      idx = random.randint(0, len(c)-1)\n",
        "      c[idx] = str(1 - int(c[idx]))\n",
        "    return c\n",
        "  \n",
        "  def run(self, debug=False):\n",
        "    start_time = time.time_ns()\n",
        "    best = random.choice(self.pop)\n",
        "\n",
        "    for i in range(self.n):\n",
        "      oldbest = best\n",
        "      best = max(best, *self.pop, key = lambda chromosome: self.fitness(chromosome))\n",
        "      if debug and best > oldbest:\n",
        "        print(f\"[{i}] {''.join(best), self.fitness(best)}\")\n",
        "      if best == self.ideal:\n",
        "        break\n",
        "\n",
        "      selected_pairs = [(self.select(), self.select()) for _ in range(int(self.n_pop/2))]\n",
        "      children = []\n",
        "      for p1, p2 in selected_pairs:\n",
        "        c1, c2 = self.crossover(p1, p2)\n",
        "        c1, c2 = self.mutation(c1), self.mutation(c2)\n",
        "        children.extend((c1, c2))\n",
        "      \n",
        "      self.pop = children\n",
        "\n",
        "    return i, ''.join(best), (time.time_ns() - start_time)/1e6, best == self.ideal"
      ]
    },
    {
      "cell_type": "code",
      "source": [
        ""
      ],
      "metadata": {
        "id": "-mzagz6HFFjV"
      },
      "execution_count": null,
      "outputs": []
    },
    {
      "cell_type": "markdown",
      "source": [
        "## Task 1"
      ],
      "metadata": {
        "id": "fRkfsa_sHB_d"
      }
    },
    {
      "cell_type": "code",
      "source": [
        "class TargetString(GeneticAlgorithm):\n",
        "  def __init__(self, target):\n",
        "    self.pop_range = string.ascii_letters + string.punctuation + string.digits + ' '\n",
        "    n_pop = 70\n",
        "    pop = [random.choices(self.pop_range, k=len(target)) for _ in range(n_pop)]\n",
        "    super().__init__(pop, list(target), 100000, len(target), 0.9, 3.0/float(len(target)))\n",
        "\n",
        "  def fitness(self, chromosome):\n",
        "    return len( [True for i, j in zip(chromosome, self.ideal) if i == j] )\n",
        "  \n",
        "  def mutation(self,c):\n",
        "    if random.random() < self.mutation_rate:\n",
        "      idx = random.randint(0, len(c)-1)\n",
        "      c[idx] = random.choice(self.pop_range.replace(c[idx], ''))\n",
        "    return c\n",
        "\n",
        "t = TargetString(\"Artificial Intelligence Lab\")\n",
        "\n",
        "print(\"Best chromosomes Progression\")\n",
        "gens, result, time_taken, found = t.run(True)\n",
        "print(f\"Time taken: {time_taken}ms\")\n"
      ],
      "metadata": {
        "colab": {
          "base_uri": "https://localhost:8080/"
        },
        "id": "uAt2JGNRFX32",
        "outputId": "cbbf2b3b-44c9-4a5c-b36d-23928d4acd56"
      },
      "execution_count": null,
      "outputs": [
        {
          "output_type": "stream",
          "name": "stdout",
          "text": [
            "Best chromosomes Progression\n",
            "[3] ('A3;Lf}4-5lNvXaYq&Lg=>y/43m{', 4)\n",
            "[7] (\"Ai7Lf}4-5lNvK,e6lsQ'H:U,L,w\", 6)\n",
            "[12] (\"A3tLf}4-5lNvf,e6lLg'>1/ L,w\", 9)\n",
            "[21] (\"A3tLf94-5l vXae6lLg'Hf/ Law\", 11)\n",
            "[60] (\"A3tLf}4:5l vXae6lLg'gf/ Lab\", 12)\n",
            "[83] ('Aatrf94-5l vXae6lLge7f/ Lab', 13)\n",
            "[125] ('A3trfi[-al vXaellLge7c/ Lab', 17)\n",
            "[194] ('A3tific-al vXaellLge7c/ Lab', 19)\n",
            "[277] ('Artific-al LXaellLgenc/ Lab', 21)\n",
            "[449] ('Artific<al LXtellLgencE Lab', 22)\n",
            "[461] ('Artificial LXtellLgencE Lab', 23)\n",
            "[639] ('Artificial Lntell(gence Lab', 25)\n",
            "[644] ('Artificial Lntelligence Lab', 26)\n",
            "Time taken: 3271.065762ms\n"
          ]
        }
      ]
    },
    {
      "cell_type": "markdown",
      "source": [
        "## Task 3"
      ],
      "metadata": {
        "id": "Uee6GQoBHKey"
      }
    },
    {
      "cell_type": "code",
      "source": [
        "class Node:\n",
        "  def __init__(self, key, cost, h):\n",
        "    self.data = key\n",
        "    self.cost = cost\n",
        "    self.h = h\n",
        "    self.left = None\n",
        "    self.right = None\n",
        "\n",
        "root = Node('S', 0, 13)\n",
        "root.left = Node('A', 3, 12)\n",
        "root.right = Node('B', 2, 4)\n",
        "root.left.left = Node('C', 4, 7)\n",
        "root.left.right = Node('D', 1, 3)\n",
        "root.right.left = Node('E', 3, 8)\n",
        "root.right.right = Node('F', 1, 2)\n",
        "root.right.left.left = Node('H', 5, 4)\n",
        "root.right.right.left = Node('I', 2, 9)\n",
        "root.right.right.right = Node('G', 3, 0)\n"
      ],
      "metadata": {
        "id": "847TlPm09rsB"
      },
      "execution_count": null,
      "outputs": []
    },
    {
      "cell_type": "code",
      "source": [
        "def greedy_best_first(root, src, target):\n",
        "  path = [root.data]\n",
        "  total_cost = 0\n",
        "  bound = 100\n",
        "\t\n",
        "  while bound:\n",
        "    root = min(root.left, root.right, key=lambda node: node.h)\n",
        "    cost = root.cost\n",
        "    total_cost += cost\n",
        "    path.append(root.data)\n",
        "    if root.data == target:\n",
        "      return path, total_cost\n",
        "    bound -= 1\n",
        "\n",
        "path, cost = greedy_best_first(root, 'S', 'G')\n",
        "print(\"Path:\", ' -> '.join(path))\n",
        "print(\"Cost:\", cost)\n"
      ],
      "metadata": {
        "colab": {
          "base_uri": "https://localhost:8080/"
        },
        "id": "0RoDzoOb_7UI",
        "outputId": "fe57d1cf-1e80-47e2-e979-e70f622a3e23"
      },
      "execution_count": null,
      "outputs": [
        {
          "output_type": "stream",
          "name": "stdout",
          "text": [
            "Path: S -> B -> F -> G\n",
            "Cost: 6\n"
          ]
        }
      ]
    },
    {
      "cell_type": "markdown",
      "source": [
        "## Task 4"
      ],
      "metadata": {
        "id": "gHYgI7gWfL6X"
      }
    },
    {
      "cell_type": "code",
      "source": [
        "class Edge:\n",
        "  def __init__(self, src, target, g):\n",
        "    self.src = src\n",
        "    self.target = target\n",
        "    self.g = g\n",
        "\n",
        "# This class represents a directed graph using adjacency list representation\n",
        "class Graph:\n",
        "  def __init__(self, vertices, heuristic):\n",
        "    self.heuristic = heuristic\n",
        "    self.V = vertices\n",
        "    self.graph = defaultdict(lambda: [])\n",
        "\n",
        "  def addEdge(self, u, v, cost):\n",
        "    self.graph[u].append(Edge(u, v, cost))\n",
        "  \n",
        "  def a_star(self, src, target):\n",
        "    open = [ Edge(None, src, 0) ]\n",
        "    min_cost = defaultdict(lambda: INF)\n",
        "    min_cost[src] = 0\n",
        "    closed = [src]\n",
        "\n",
        "    while open:\n",
        "      open.sort(key = lambda x: min_cost[x.target] + self.h(x.target))\n",
        "      edge = open.pop(0)\n",
        "      closed.append(edge.target)\n",
        "\n",
        "      if edge.target == target:\n",
        "        return min_cost[target]\n",
        "      \n",
        "      for child in self.graph[edge.target]:\n",
        "        if child in closed:\n",
        "          continue\n",
        "        if child not in open:\n",
        "          open.append(child)\n",
        "        min_cost[child.target] = min(min_cost[child.target], min_cost[edge.target] + child.g)\n",
        "\n",
        "\n",
        "  def h(self, x):\n",
        "    return self.heuristic[x]\n",
        "  "
      ],
      "metadata": {
        "id": "XeJVL-ZJFss8"
      },
      "execution_count": null,
      "outputs": []
    },
    {
      "cell_type": "markdown",
      "source": [
        "## Task 4"
      ],
      "metadata": {
        "id": "E0VjmpZyfPSu"
      }
    },
    {
      "cell_type": "code",
      "source": [
        "edges = [\n",
        "         ('S', 'A', 1), ('S', 'G', 10), ('A', 'C', 1), ('A', 'B', 2),\n",
        "         ('B', 'D', 5), ('C', 'D', 3), ('C', 'G', 4), ('D', 'G', 3) # Assumed. No cost included in graph for D->G\n",
        "]\n",
        "\n",
        "h = {\n",
        "    'S': 5,\n",
        "    'A': 3,\n",
        "    'B': 4,\n",
        "    'C': 2,\n",
        "    'D': 6,\n",
        "    'G': 0\n",
        "}\n",
        "\n",
        "graph = Graph(6, h)\n",
        "for u, v, cost in edges:\n",
        "  graph.addEdge(u, v, cost)\n",
        "\n",
        "\n",
        "print(f\"Minimum cost: {graph.a_star('S', 'G')}\")"
      ],
      "metadata": {
        "colab": {
          "base_uri": "https://localhost:8080/"
        },
        "id": "LiuMV7-cfOls",
        "outputId": "78e9f1d5-0ca4-4908-9564-6a5cd07d3b2f"
      },
      "execution_count": null,
      "outputs": [
        {
          "output_type": "stream",
          "name": "stdout",
          "text": [
            "Minimum cost: 6\n"
          ]
        }
      ]
    },
    {
      "cell_type": "markdown",
      "source": [
        "## Task 5"
      ],
      "metadata": {
        "id": "GPyqC8yZfZve"
      }
    },
    {
      "cell_type": "code",
      "source": [
        "class Node:\n",
        "    def __init__(self, position, h, parent=None):\n",
        "        self.position = position\n",
        "        self.parent = parent\n",
        "        self.g = 1\n",
        "        self.h = h\n",
        "        self.f = INF\n",
        "    \n",
        "    def __eq__(self, other):\n",
        "        return self.position == other.position\n",
        "    \n",
        "    def __lt__(self, other):\n",
        "        return self.f + self.h < other.f + self.h\n",
        "    \n",
        "    def __repr__(self):\n",
        "        return (f\"{self.position}  {self.f}  {self.h}\")\n",
        "\n",
        "\n",
        "maze = [\n",
        "     [INF, 10, 9, 8, 7, 6, 5, 4, 3, 2, 1, 0],\n",
        "     [INF, 11, INF, INF, INF, INF, INF, INF, INF, INF, INF, 1],\n",
        "     [INF, 12, INF, 10, 9, 8, 7, 6, 5, 4, INF, 2],\n",
        "     [INF, 13, INF, 11, INF, INF, INF, INF, INF, 5, INF, 3],\n",
        "     [INF, 14, 13, 12, INF, 10, 9, 8, 7, 6, INF, 4],\n",
        "     [INF, INF, INF, 13, INF, 11, INF, INF, INF, INF, INF, 5],\n",
        "     [17, 16, 15, 14, INF, 12, 11, 10, 9, 8, 7, 6]\n",
        "]\n",
        "\n",
        "maze = { (i, j) : Node((i,j), key) for i in range(len(maze)) for j, key in enumerate(maze[i])}"
      ],
      "metadata": {
        "id": "8RwXCVGa038l"
      },
      "execution_count": null,
      "outputs": []
    },
    {
      "cell_type": "code",
      "source": [
        "\n",
        "\n",
        "def a_star(start, goal):\n",
        "  start.f = 0\n",
        "  open = [ start ]\n",
        "  closed = []\n",
        "\n",
        "  while open:\n",
        "    open.sort()\n",
        "    node = open.pop(0)\n",
        "    closed.append(node)\n",
        "    \n",
        "    if node == goal:\n",
        "      path = []\n",
        "      while node:\n",
        "        path.append(node.position)\n",
        "        node = node.parent\n",
        "      return list(reversed(path)), goal.f\n",
        "    \n",
        "    x, y = node.position\n",
        "    neighbors = [(x-1, y), (x+1, y), (x, y-1), (x, y+1)]\n",
        "\n",
        "    for pos in neighbors:\n",
        "      neigh = maze.get(pos)\n",
        "      if not neigh or neigh.h == INF or neigh in closed: continue\n",
        "      # print(neigh.position, end=' ')\n",
        "      if neigh.f > node.f + neigh.g:\n",
        "        neigh.f = node.f + neigh.g\n",
        "        neigh.parent = node\n",
        "      # print(node.f, neigh.g)\n",
        "      if neigh not in open:\n",
        "        open.append(neigh)\n",
        "\n",
        "path, cost = a_star(maze[(6, 0)], maze[(0, 11)])\n",
        "print(f\"Path: {' -> '.join([str(t) for t in path])}\")\n",
        "print(f\"Cost: {cost}\")"
      ],
      "metadata": {
        "colab": {
          "base_uri": "https://localhost:8080/"
        },
        "id": "hBuYqVr0fa7A",
        "outputId": "c17f4a1b-07a9-45d7-c78e-4e824e199830"
      },
      "execution_count": null,
      "outputs": [
        {
          "output_type": "stream",
          "name": "stdout",
          "text": [
            "Path: (6, 0) -> (6, 1) -> (6, 2) -> (6, 3) -> (5, 3) -> (4, 3) -> (4, 2) -> (4, 1) -> (3, 1) -> (2, 1) -> (1, 1) -> (0, 1) -> (0, 2) -> (0, 3) -> (0, 4) -> (0, 5) -> (0, 6) -> (0, 7) -> (0, 8) -> (0, 9) -> (0, 10) -> (0, 11)\n",
            "Cost: 21\n"
          ]
        }
      ]
    }
  ]
}