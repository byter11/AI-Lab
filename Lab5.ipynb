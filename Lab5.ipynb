{
  "nbformat": 4,
  "nbformat_minor": 0,
  "metadata": {
    "colab": {
      "name": "Lab5.ipynb",
      "provenance": [],
      "collapsed_sections": []
    },
    "kernelspec": {
      "name": "python3",
      "display_name": "Python 3"
    },
    "language_info": {
      "name": "python"
    }
  },
  "cells": [
    {
      "cell_type": "code",
      "source": [
        "# 19K1308\n",
        "# Mohsin Shaikh\n",
        "# C"
      ],
      "metadata": {
        "id": "crPYIes1Frqy"
      },
      "execution_count": null,
      "outputs": []
    },
    {
      "cell_type": "code",
      "execution_count": null,
      "metadata": {
        "id": "IL3uoZ02nBx4"
      },
      "outputs": [],
      "source": [
        "class Node:\n",
        "  def __init__(self ,key):\n",
        "    self.data = key\n",
        "    self.left = None\n",
        "    self.right = None\n",
        "  \n",
        "  def dfs(self, root = 0):\n",
        "    if root == 0:\n",
        "      root = self\n",
        "    if not root:\n",
        "      return\n",
        "    print(root.data)\n",
        "    self.dfs(root.left)\n",
        "    self.dfs(root.right)\n",
        "  \n",
        "  def bfs(self):\n",
        "    q = [self]\n",
        "    while q:\n",
        "      node = q.pop(0)\n",
        "      print(node.data)\n",
        "      if node.left:\n",
        "        q.append(node.left)\n",
        "      if node.right:\n",
        "        q.append(node.right)"
      ]
    },
    {
      "cell_type": "code",
      "source": [
        "root = Node('S')\n",
        "root.left = Node('A')\n",
        "root.right = Node('B')\n",
        "root.left.left = Node('C')\n",
        "root.left.right = Node('D')\n",
        "root.right.left = Node('Z')\n",
        "root.right.right = Node('K')\n",
        "root.left.left.left = Node('M')\n",
        "root.left.left.right = Node('O')\n",
        "root.right.left.right = Node('G')\n",
        "root.right.left.right.left = Node('H')"
      ],
      "metadata": {
        "id": "YVl3K3UBnkmQ"
      },
      "execution_count": null,
      "outputs": []
    },
    {
      "cell_type": "code",
      "source": [
        "root.dfs()"
      ],
      "metadata": {
        "colab": {
          "base_uri": "https://localhost:8080/"
        },
        "id": "EYhDQwiFnqcC",
        "outputId": "e3c7d85a-9e14-4629-95b3-7e5402094c33"
      },
      "execution_count": null,
      "outputs": [
        {
          "output_type": "stream",
          "name": "stdout",
          "text": [
            "S\n",
            "A\n",
            "C\n",
            "M\n",
            "O\n",
            "D\n",
            "B\n",
            "Z\n",
            "G\n",
            "H\n",
            "K\n"
          ]
        }
      ]
    },
    {
      "cell_type": "code",
      "source": [
        "root.bfs()"
      ],
      "metadata": {
        "colab": {
          "base_uri": "https://localhost:8080/"
        },
        "id": "ELgN3m5IqGPv",
        "outputId": "f5ed6eae-3607-4f6a-bcfb-3d6bc20e57b5"
      },
      "execution_count": null,
      "outputs": [
        {
          "output_type": "stream",
          "name": "stdout",
          "text": [
            "S\n",
            "A\n",
            "B\n",
            "C\n",
            "D\n",
            "Z\n",
            "K\n",
            "M\n",
            "O\n",
            "G\n",
            "H\n"
          ]
        }
      ]
    },
    {
      "cell_type": "code",
      "source": [
        "from collections import defaultdict\n",
        "\n",
        "graph = defaultdict(list)\n",
        "\n",
        "graph[0] = [ (1, 1), (5, 12) ]\n",
        "graph[1] = [ (2 ,3), (3, 1) ]\n",
        "graph[2] = [ (4, 3) ]\n",
        "graph[3] = [ (4, 1), (5, 2) ]\n",
        "graph[4] = [ (5, 3) ]\n"
      ],
      "metadata": {
        "id": "503nOeqNpDjI"
      },
      "execution_count": null,
      "outputs": []
    },
    {
      "cell_type": "code",
      "source": [
        "\n",
        "\n",
        "def uniform_cost_search(start, goal):\n",
        "  q = [ (start, 0) ]\n",
        "  reached = defaultdict(list)\n",
        "  solution = float('inf')\n",
        "\n",
        "  while q and q[0][1] <= solution:\n",
        "    p, pcost = q.pop(0)\n",
        "    for child in graph[p]:\n",
        "      c, ccost = child\n",
        "      cost = pcost + ccost\n",
        "      if child not in reached or cost < reached[c][1]:\n",
        "        reached[c] = (c, cost)\n",
        "        q.append((c, cost))\n",
        "        if c == goal and cost < solution:\n",
        "          solution = cost\n",
        "\n",
        "  return solution\n"
      ],
      "metadata": {
        "id": "TYYC1u_nqQSn"
      },
      "execution_count": null,
      "outputs": []
    },
    {
      "cell_type": "code",
      "source": [
        "\n",
        "answer = uniform_cost_search(0, 5) # ← Implement this function\n",
        "\n",
        "# print answer\n",
        "print(\"Minimum cost from 0 to 6 is = \",answer)"
      ],
      "metadata": {
        "id": "-o-uOsSfxs9B",
        "colab": {
          "base_uri": "https://localhost:8080/"
        },
        "outputId": "8756e01e-aca9-41d6-9518-1bedccef9b9f"
      },
      "execution_count": null,
      "outputs": [
        {
          "output_type": "stream",
          "name": "stdout",
          "text": [
            "Minimum cost from 0 to 6 is =  4\n"
          ]
        }
      ]
    },
    {
      "cell_type": "code",
      "source": [
        "from collections import defaultdict\n",
        "from queue import PriorityQueue\n",
        "\n",
        "class Edge:\n",
        "  def __init__(self, target, cost):\n",
        "    self.target = target\n",
        "    self.cost = cost\n",
        "\n",
        "# This class represents a directed graph using adjacency list representation\n",
        "class Graph:\n",
        "  def __init__(self, vertices):\n",
        "    self.V = vertices\n",
        "    self.graph = defaultdict(list)\n",
        "\n",
        "  def addEdge(self, u, v, cost):\n",
        "    self.graph[u].append(v)\n",
        "\n",
        "\n",
        "  def DLS(self, src, target, maxDepth):\n",
        "    if maxDepth <= 0:\n",
        "      return False\n",
        "\n",
        "    if not self.graph.get(src):\n",
        "      return False\n",
        "    \n",
        "    if target in self.graph[src]:\n",
        "      return True\n",
        "    \n",
        "    for edge in self.graph[src]:\n",
        "      if self.DLS(edge, target, maxDepth - 1):\n",
        "        return True\n",
        "\n",
        "  def IDDFS(self,src, target, maxDepth):\n",
        "    for i in range(maxDepth):\n",
        "      if self.DLS(src, target, i):\n",
        "        return True, i + 1\n",
        "    \n",
        "    return False, -1\n"
      ],
      "metadata": {
        "id": "OfNLjSm42G4Z"
      },
      "execution_count": null,
      "outputs": []
    },
    {
      "cell_type": "code",
      "source": [
        "g = Graph (7);\n",
        "g.addEdge(0, 1, 2)\n",
        "g.addEdge(0, 2, 3)\n",
        "g.addEdge(1, 3, 1)\n",
        "g.addEdge(1, 4, 1)\n",
        "g.addEdge(2, 5, 1)\n",
        "g.addEdge(2, 6, 1)\n",
        "\n",
        "src = 0; target = 6; maxDepth = 4\n",
        "found, depth = g.IDDFS(src, target, maxDepth)\n",
        "if found:\n",
        "  print (\"Target is reachable from source at depth\", depth)\n",
        "else :\n",
        "  print (\"Target is NOT reachable from source within max depth\")"
      ],
      "metadata": {
        "colab": {
          "base_uri": "https://localhost:8080/"
        },
        "id": "f8SNC0za2XxT",
        "outputId": "96e39f8a-b488-496f-b949-bd28a4d9e4cc"
      },
      "execution_count": null,
      "outputs": [
        {
          "output_type": "stream",
          "name": "stdout",
          "text": [
            "Target is reachable from source at depth 3\n"
          ]
        }
      ]
    },
    {
      "cell_type": "code",
      "source": [
        "class AdjacentNode:\n",
        "  def __init__(self, vertex):\n",
        "    self.vertex = vertex\n",
        "    self.next = None\n",
        "\n",
        "class BidirectionalSearch:\n",
        "  def __init__(self, vertices):\n",
        "\n",
        "    self.vertices = vertices\n",
        "    self.graph = [None] * self.vertices\n",
        "\n",
        "    self.src_queue = list()\n",
        "    self.dest_queue = list()\n",
        "\n",
        "    self.src_visited = [False] * self.vertices\n",
        "    self.dest_visited = [False] * self.vertices\n",
        "\n",
        "    self.src_parent = [None] * self.vertices\n",
        "    self.dest_parent = [None] * self.vertices\n",
        "\n",
        "\n",
        "  def add_edge(self, src, dest):\n",
        "    node = AdjacentNode(dest)\n",
        "    node.next = self.graph[src]\n",
        "    self.graph[src] = node\n",
        "\n",
        "    node = AdjacentNode(src)\n",
        "    node.next = self.graph[dest]\n",
        "    self.graph[dest] = node\n",
        "\n",
        "  def bfs(self, direction = 'forward'):\n",
        "    if direction == 'forward':\n",
        "      current = self.src_queue.pop(0)\n",
        "      connected_node = self.graph[current]\n",
        "      while connected_node:\n",
        "        vertex = connected_node.vertex\n",
        "        if not self.src_visited[vertex]:\n",
        "          self.src_queue.append(vertex)\n",
        "          self.src_visited[vertex] = True\n",
        "          self.src_parent[vertex] = current\n",
        "        connected_node = connected_node.next\n",
        "    else:\n",
        "      current = self.dest_queue.pop(0)\n",
        "      connected_node = self.graph[current]\n",
        "      while connected_node:\n",
        "        vertex = connected_node.vertex\n",
        "        if not self.dest_visited[vertex]:\n",
        "          self.dest_queue.append(vertex)\n",
        "          self.dest_visited[vertex] = True\n",
        "          self.dest_parent[vertex] = current\n",
        "        connected_node = connected_node.next\n",
        "\n",
        "  def is_intersecting(self):\n",
        "    for i in range(self.vertices):\n",
        "      if (self.src_visited[i] and self.dest_visited[i]):\n",
        "        return i\n",
        "    return -1\n",
        "\n",
        "  def print_path(self, intersecting_node, src, dest):\n",
        "    path = list()\n",
        "    path.append(intersecting_node)\n",
        "    i = intersecting_node\n",
        "\n",
        "    while i != src:\n",
        "      path.append(self.src_parent[i])\n",
        "      i = self.src_parent[i]\n",
        "\n",
        "    path = path[::-1]\n",
        "    i = intersecting_node\n",
        "\n",
        "    while i != dest:\n",
        "      path.append(self.dest_parent[i])\n",
        "      i = self.dest_parent[i]\n",
        "\n",
        "    print(\"*****Path*****\")\n",
        "    path = list(map(str, path))\n",
        "    print(' '.join(path))\n",
        "\n",
        "\n",
        "  def bidirectional_search(self, src, dest):\n",
        "    self.src_queue.append(src)\n",
        "    self.dest_queue.append(dest)\n",
        "\n",
        "    while self.src_queue and self.dest_queue:\n",
        "      self.bfs(\"forward\")\n",
        "      self.bfs(\"backward\")\n",
        "      if any([True for s in self.src_queue if s in self.dest_queue]): \n",
        "        return 1\n",
        "    return -1\n",
        "\n",
        "\n",
        "n = 15\n",
        "src = 0\n",
        "dest = 14\n",
        "\n",
        "graph = BidirectionalSearch(n)\n",
        "graph.add_edge(0, 4)\n",
        "graph.add_edge(1, 4)\n",
        "graph.add_edge(2, 5)\n",
        "graph.add_edge(3, 5)\n",
        "graph.add_edge(4, 6)\n",
        "graph.add_edge(5, 6)\n",
        "graph.add_edge(6, 7)\n",
        "graph.add_edge(7, 8)\n",
        "graph.add_edge(8, 9)\n",
        "graph.add_edge(8, 10)\n",
        "graph.add_edge(9, 11)\n",
        "graph.add_edge(9, 12)\n",
        "graph.add_edge(10, 13)\n",
        "graph.add_edge(10, 14)\n",
        "out = graph.bidirectional_search(src, dest)\n",
        "\n",
        "if out == -1:\n",
        "  print(f\"Path does not exist between {src} and {dest}\")"
      ],
      "metadata": {
        "id": "m69iS6tb5pvl"
      },
      "execution_count": null,
      "outputs": []
    },
    {
      "cell_type": "code",
      "source": [
        "INF = float('inf')\n",
        "\n",
        "graph = [[0, 10, 15, 20],\n",
        "  [10, 0, 35, 25],\n",
        "  [15, 35, 0, 30],\n",
        "  [20, 25, 30, 0]]\n",
        "\n",
        "def cost_matrix(parent, target, src=None):\n",
        "  reduced = [p[:] for p in parent]\n",
        "  \n",
        "  reduced[target] = [INF] * len(reduced[target])\n",
        "  if src:\n",
        "    for i in range(len(reduced)):\n",
        "      reduced[i][src] = INF\n",
        "\n",
        "  return reduced\n",
        "\n",
        "def get_cost(reduced):\n",
        "  cost_m = [r[:] for r in reduced]\n",
        "\n",
        "  for i in range(len(cost_m)):\n",
        "    min_col = min(cost_m[i])\n",
        "    for j in range(len(cost_m)):\n",
        "      if min_col != INF:\n",
        "        cost_m[i][j] -= min_col\n",
        "  \n",
        "  for i in range(len(cost_m)):\n",
        "    min_row = min(cost_m[j][i] for j in range(len(cost_m)))\n",
        "    for j in range(len(cost_m)):\n",
        "      if min_row != INF:\n",
        "        cost_m[j][i] -= min_row\n",
        "  \n",
        "  cost = 0\n",
        "  for c in cost_m:\n",
        "    for r in c:\n",
        "      if r != INF:\n",
        "        cost += r\n",
        "\n",
        "  return cost\n",
        "\n",
        "# Using Branch and Bound\n",
        "def search():\n",
        "  reduced_root = cost_matrix(graph, 0)\n",
        "  pq = [ (0, reduced_root, get_cost(reduced_root)) ]\n",
        "\n",
        "  while pq:\n",
        "    pq.sort(key = lambda x: x[2], reverse = True)\n",
        "    i, reduced, cost = pq.pop(0)\n",
        "\n",
        "    if len(pq) >= len(graph):\n",
        "      return cost\n",
        "    \n",
        "    for j in range(len(reduced)):\n",
        "      if reduced[j][i] != INF:\n",
        "        reduced_child = cost_matrix(reduced, j, i)\n",
        "        pq.append( (j, reduced_child, get_cost(reduced_child)) )\n",
        "\n",
        "\n",
        "print(f\"Minimum cost for TSP: {search()}\")"
      ],
      "metadata": {
        "colab": {
          "base_uri": "https://localhost:8080/"
        },
        "id": "p8deE70qdnSa",
        "outputId": "bfafe846-d225-4827-dee5-82d38d89eb85"
      },
      "execution_count": null,
      "outputs": [
        {
          "output_type": "stream",
          "name": "stdout",
          "text": [
            "Minimum cost for TSP: 65\n"
          ]
        }
      ]
    }
  ]
}